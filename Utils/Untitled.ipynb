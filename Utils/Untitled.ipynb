{
 "cells": [
  {
   "cell_type": "code",
   "execution_count": null,
   "metadata": {
    "collapsed": true
   },
   "outputs": [],
   "source": [
    "\"\"\"\n",
    "Start causality score vs. Feature analysis #1: TSS\n",
    "IN: Master table (or CAVIAR output) + bed file with feature coordinates\n",
    "OUT: Causality score at genomic features\n",
    "NOTE: The start coordinate of [+] strand and the end coordinate of [-] strand represent the TSS \n",
    "      FEAURES= table files with at least these columns ['chrom','gene','start','end']\n",
    "\"\"\"\n"
   ]
  }
 ],
 "metadata": {
  "kernelspec": {
   "display_name": "Python 3",
   "language": "python",
   "name": "python3"
  },
  "language_info": {
   "codemirror_mode": {
    "name": "ipython",
    "version": 3
   },
   "file_extension": ".py",
   "mimetype": "text/x-python",
   "name": "python",
   "nbconvert_exporter": "python",
   "pygments_lexer": "ipython3",
   "version": "3.4.5"
  }
 },
 "nbformat": 4,
 "nbformat_minor": 2
}
