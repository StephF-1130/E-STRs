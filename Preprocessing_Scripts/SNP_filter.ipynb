{
 "cells": [
  {
   "cell_type": "code",
   "execution_count": 1,
   "metadata": {
    "collapsed": true
   },
   "outputs": [],
   "source": [
    "\"\"\"\n",
    "-  AFF     - Call rate    - nearby indel   - depth / coverage   - seg. dupl\n",
    "\"\"\"\n",
    "import pandas as pd\n",
    "import scipy.stats\n",
    "import numpy as np\n",
    "import vcf\n",
    "import io\n",
    "from datetime import datetime\n",
    "\n",
    "def removeoverlap(X, Y ):\n",
    "    fragments=[]\n",
    "    X['start'] = X[\"start\"].astype(int)\n",
    "    for i in range(len(list(Y.index))):\n",
    "        start = list(Y['POS'])[i]\n",
    "        end = list(Y['END'])[i]\n",
    "        X2 = X.loc[(X[\"start\"]<=start) | (X[\"start\"]>=end)]\n",
    "        X = 0; X = X2\n",
    "    print('\\t STRs snps ..',X.shape)\n",
    "    result = X\n",
    "    return(result)\n",
    "\n",
    "SEGDUP=\"/storage/resources/dbase/human/hg19/hg19_segmentalduplications.bed\"\n",
    "HRUN = \"/storage/resources/dbase/human/hg19/hg19.hipstr_reference_hrun.bed\"\n",
    "HPOL = \"/storage/szfeupe/Runs/650GTEx_estr/temp_files/GTEX-111FC-0001\"\n",
    "SNP = \"/storage/szfeupe/Runs/650GTEx_estr/SNP_Analysis/chr\"\n",
    "column = open('/storage/szfeupe/Runs/650GTEx_estr/SNP_Analysis/tmp','r').readline().split('\\t')"
   ]
  },
  {
   "cell_type": "code",
   "execution_count": 3,
   "metadata": {
    "collapsed": false
   },
   "outputs": [
    {
     "name": "stdout",
     "output_type": "stream",
     "text": [
      "Data .. (506606, 654)\n",
      "High call rate filter .. (505274, 655)\n"
     ]
    },
    {
     "name": "stderr",
     "output_type": "stream",
     "text": [
      "/usr/lib/python3.4/site-packages/IPython/core/interactiveshell.py:2717: DtypeWarning: Columns (0) have mixed types. Specify dtype option on import or set low_memory=False.\n",
      "  interactivity=interactivity, compiler=compiler, result=result)\n"
     ]
    },
    {
     "name": "stdout",
     "output_type": "stream",
     "text": [
      "STRs .. (124646, 3)\n"
     ]
    },
    {
     "name": "stderr",
     "output_type": "stream",
     "text": [
      "/usr/lib/python3.4/site-packages/ipykernel/__main__.py:13: SettingWithCopyWarning: \n",
      "A value is trying to be set on a copy of a slice from a DataFrame.\n",
      "Try using .loc[row_indexer,col_indexer] = value instead\n",
      "\n",
      "See the caveats in the documentation: http://pandas.pydata.org/pandas-docs/stable/indexing.html#indexing-view-versus-copy\n"
     ]
    },
    {
     "name": "stdout",
     "output_type": "stream",
     "text": [
      "\t STRs snps .. (502467, 2)\n",
      "(505274, 655) 11:27:54\n",
      "\t STRs snps .. (502467, 2)\n",
      "(502467, 2) 12:31:14\n",
      "(502467, 655)\n",
      "\t STRs snps .. (486394, 2)\n",
      "Segmental Duplication filtered... (486394, 655)\n",
      "\t STRs snps .. (486093, 2)\n",
      "hrun filtered... (486093, 655)\n",
      "1\n",
      "Data .. (549714, 654)\n",
      "High call rate filter .. (548320, 655)\n",
      "STRs .. (123847, 3)\n",
      "\t STRs snps .. (545386, 2)\n",
      "(548320, 655) 14:45:15\n",
      "\t STRs snps .. (545386, 2)\n",
      "(545386, 2) 15:48:43\n",
      "(545386, 655)\n",
      "\t STRs snps .. (529221, 2)\n",
      "Segmental Duplication filtered... (529221, 655)\n",
      "\t STRs snps .. (528923, 2)\n",
      "hrun filtered... (528923, 655)\n",
      "2\n",
      "Data .. (471493, 654)\n",
      "High call rate filter .. (470466, 655)\n",
      "STRs .. (100204, 3)\n",
      "\t STRs snps .. (468036, 2)\n",
      "(470466, 655) 17:40:26\n",
      "\t STRs snps .. (468036, 2)\n",
      "(468036, 2) 18:23:30\n",
      "(468036, 655)\n",
      "\t STRs snps .. (456381, 2)\n",
      "Segmental Duplication filtered... (456381, 655)\n",
      "\t STRs snps .. (456276, 2)\n",
      "hrun filtered... (456276, 655)\n",
      "3\n",
      "Data .. (488164, 654)\n",
      "High call rate filter .. (486819, 655)\n",
      "STRs .. (92127, 3)\n",
      "\t STRs snps .. (484236, 2)\n",
      "(486819, 655) 19:51:27\n",
      "\t STRs snps .. (484236, 2)\n",
      "(484236, 2) 20:30:41\n",
      "(484236, 655)\n",
      "\t STRs snps .. (468235, 2)\n",
      "Segmental Duplication filtered... (468235, 655)\n",
      "\t STRs snps .. (468009, 2)\n",
      "hrun filtered... (468009, 655)\n",
      "4\n",
      "Data .. (425829, 654)\n",
      "High call rate filter .. (424837, 655)\n",
      "STRs .. (89686, 3)\n",
      "\t STRs snps .. (422626, 2)\n",
      "(424837, 655) 21:48:32\n",
      "\t STRs snps .. (422626, 2)\n",
      "(422626, 2) 22:21:48\n",
      "(422626, 655)\n",
      "\t STRs snps .. (413701, 2)\n",
      "Segmental Duplication filtered... (413701, 655)\n",
      "\t STRs snps .. (413523, 2)\n",
      "hrun filtered... (413523, 655)\n",
      "5\n",
      "Data .. (455120, 654)\n",
      "High call rate filter .. (453248, 655)\n",
      "STRs .. (86541, 3)\n",
      "\t STRs snps .. (450905, 2)\n",
      "(453248, 655) 23:32:58\n",
      "\t STRs snps .. (450905, 2)\n",
      "(450905, 2) 00:05:55\n",
      "(450905, 655)\n",
      "\t STRs snps .. (435363, 2)\n",
      "Segmental Duplication filtered... (435363, 655)\n",
      "\t STRs snps .. (435192, 2)\n",
      "hrun filtered... (435192, 655)\n",
      "6\n"
     ]
    },
    {
     "ename": "KeyboardInterrupt",
     "evalue": "",
     "output_type": "error",
     "traceback": [
      "\u001b[0;31m---------------------------------------------------------------------------\u001b[0m",
      "\u001b[0;31mKeyboardInterrupt\u001b[0m                         Traceback (most recent call last)",
      "\u001b[0;32m<ipython-input-3-77e6d5874cf8>\u001b[0m in \u001b[0;36m<module>\u001b[0;34m()\u001b[0m\n\u001b[1;32m      2\u001b[0m \u001b[0;31m##\u001b[0m\u001b[0;34m\u001b[0m\u001b[0;34m\u001b[0m\u001b[0m\n\u001b[1;32m      3\u001b[0m \u001b[0;32mfor\u001b[0m \u001b[0mch\u001b[0m \u001b[0;32min\u001b[0m \u001b[0mchrom\u001b[0m\u001b[0;34m:\u001b[0m\u001b[0;34m\u001b[0m\u001b[0m\n\u001b[0;32m----> 4\u001b[0;31m     \u001b[0mdata\u001b[0m \u001b[0;34m=\u001b[0m \u001b[0mpd\u001b[0m\u001b[0;34m.\u001b[0m\u001b[0mread_csv\u001b[0m\u001b[0;34m(\u001b[0m\u001b[0mSNP\u001b[0m\u001b[0;34m+\u001b[0m\u001b[0mstr\u001b[0m\u001b[0;34m(\u001b[0m\u001b[0mch\u001b[0m\u001b[0;34m)\u001b[0m\u001b[0;34m+\u001b[0m\u001b[0;34m\".snp\"\u001b[0m\u001b[0;34m,\u001b[0m \u001b[0msep\u001b[0m\u001b[0;34m=\u001b[0m\u001b[0;34m'\\t'\u001b[0m\u001b[0;34m,\u001b[0m \u001b[0mheader\u001b[0m\u001b[0;34m=\u001b[0m\u001b[0;32mNone\u001b[0m\u001b[0;34m,\u001b[0m \u001b[0mlow_memory\u001b[0m\u001b[0;34m=\u001b[0m\u001b[0;32mFalse\u001b[0m\u001b[0;34m)\u001b[0m\u001b[0;34m\u001b[0m\u001b[0m\n\u001b[0m\u001b[1;32m      5\u001b[0m     \u001b[0mdata\u001b[0m\u001b[0;34m.\u001b[0m\u001b[0mcolumns\u001b[0m \u001b[0;34m=\u001b[0m \u001b[0mcolumn\u001b[0m\u001b[0;34m\u001b[0m\u001b[0m\n\u001b[1;32m      6\u001b[0m     \u001b[0mdata\u001b[0m\u001b[0;34m.\u001b[0m\u001b[0mreplace\u001b[0m\u001b[0;34m(\u001b[0m\u001b[0;34m'None'\u001b[0m\u001b[0;34m,\u001b[0m \u001b[0mnp\u001b[0m\u001b[0;34m.\u001b[0m\u001b[0mnan\u001b[0m\u001b[0;34m,\u001b[0m \u001b[0minplace\u001b[0m\u001b[0;34m=\u001b[0m\u001b[0;32mTrue\u001b[0m\u001b[0;34m)\u001b[0m\u001b[0;34m\u001b[0m\u001b[0m\n",
      "\u001b[0;32m/usr/lib64/python3.4/site-packages/pandas/io/parsers.py\u001b[0m in \u001b[0;36mparser_f\u001b[0;34m(filepath_or_buffer, sep, delimiter, header, names, index_col, usecols, squeeze, prefix, mangle_dupe_cols, dtype, engine, converters, true_values, false_values, skipinitialspace, skiprows, nrows, na_values, keep_default_na, na_filter, verbose, skip_blank_lines, parse_dates, infer_datetime_format, keep_date_col, date_parser, dayfirst, iterator, chunksize, compression, thousands, decimal, lineterminator, quotechar, quoting, escapechar, comment, encoding, dialect, tupleize_cols, error_bad_lines, warn_bad_lines, skipfooter, skip_footer, doublequote, delim_whitespace, as_recarray, compact_ints, use_unsigned, low_memory, buffer_lines, memory_map, float_precision)\u001b[0m\n\u001b[1;32m    707\u001b[0m                     skip_blank_lines=skip_blank_lines)\n\u001b[1;32m    708\u001b[0m \u001b[0;34m\u001b[0m\u001b[0m\n\u001b[0;32m--> 709\u001b[0;31m         \u001b[0;32mreturn\u001b[0m \u001b[0m_read\u001b[0m\u001b[0;34m(\u001b[0m\u001b[0mfilepath_or_buffer\u001b[0m\u001b[0;34m,\u001b[0m \u001b[0mkwds\u001b[0m\u001b[0;34m)\u001b[0m\u001b[0;34m\u001b[0m\u001b[0m\n\u001b[0m\u001b[1;32m    710\u001b[0m \u001b[0;34m\u001b[0m\u001b[0m\n\u001b[1;32m    711\u001b[0m     \u001b[0mparser_f\u001b[0m\u001b[0;34m.\u001b[0m\u001b[0m__name__\u001b[0m \u001b[0;34m=\u001b[0m \u001b[0mname\u001b[0m\u001b[0;34m\u001b[0m\u001b[0m\n",
      "\u001b[0;32m/usr/lib64/python3.4/site-packages/pandas/io/parsers.py\u001b[0m in \u001b[0;36m_read\u001b[0;34m(filepath_or_buffer, kwds)\u001b[0m\n\u001b[1;32m    453\u001b[0m \u001b[0;34m\u001b[0m\u001b[0m\n\u001b[1;32m    454\u001b[0m     \u001b[0;32mtry\u001b[0m\u001b[0;34m:\u001b[0m\u001b[0;34m\u001b[0m\u001b[0m\n\u001b[0;32m--> 455\u001b[0;31m         \u001b[0mdata\u001b[0m \u001b[0;34m=\u001b[0m \u001b[0mparser\u001b[0m\u001b[0;34m.\u001b[0m\u001b[0mread\u001b[0m\u001b[0;34m(\u001b[0m\u001b[0mnrows\u001b[0m\u001b[0;34m)\u001b[0m\u001b[0;34m\u001b[0m\u001b[0m\n\u001b[0m\u001b[1;32m    456\u001b[0m     \u001b[0;32mfinally\u001b[0m\u001b[0;34m:\u001b[0m\u001b[0;34m\u001b[0m\u001b[0m\n\u001b[1;32m    457\u001b[0m         \u001b[0mparser\u001b[0m\u001b[0;34m.\u001b[0m\u001b[0mclose\u001b[0m\u001b[0;34m(\u001b[0m\u001b[0;34m)\u001b[0m\u001b[0;34m\u001b[0m\u001b[0m\n",
      "\u001b[0;32m/usr/lib64/python3.4/site-packages/pandas/io/parsers.py\u001b[0m in \u001b[0;36mread\u001b[0;34m(self, nrows)\u001b[0m\n\u001b[1;32m   1067\u001b[0m                 \u001b[0;32mraise\u001b[0m \u001b[0mValueError\u001b[0m\u001b[0;34m(\u001b[0m\u001b[0;34m'skipfooter not supported for iteration'\u001b[0m\u001b[0;34m)\u001b[0m\u001b[0;34m\u001b[0m\u001b[0m\n\u001b[1;32m   1068\u001b[0m \u001b[0;34m\u001b[0m\u001b[0m\n\u001b[0;32m-> 1069\u001b[0;31m         \u001b[0mret\u001b[0m \u001b[0;34m=\u001b[0m \u001b[0mself\u001b[0m\u001b[0;34m.\u001b[0m\u001b[0m_engine\u001b[0m\u001b[0;34m.\u001b[0m\u001b[0mread\u001b[0m\u001b[0;34m(\u001b[0m\u001b[0mnrows\u001b[0m\u001b[0;34m)\u001b[0m\u001b[0;34m\u001b[0m\u001b[0m\n\u001b[0m\u001b[1;32m   1070\u001b[0m \u001b[0;34m\u001b[0m\u001b[0m\n\u001b[1;32m   1071\u001b[0m         \u001b[0;32mif\u001b[0m \u001b[0mself\u001b[0m\u001b[0;34m.\u001b[0m\u001b[0moptions\u001b[0m\u001b[0;34m.\u001b[0m\u001b[0mget\u001b[0m\u001b[0;34m(\u001b[0m\u001b[0;34m'as_recarray'\u001b[0m\u001b[0;34m)\u001b[0m\u001b[0;34m:\u001b[0m\u001b[0;34m\u001b[0m\u001b[0m\n",
      "\u001b[0;32m/usr/lib64/python3.4/site-packages/pandas/io/parsers.py\u001b[0m in \u001b[0;36mread\u001b[0;34m(self, nrows)\u001b[0m\n\u001b[1;32m   1837\u001b[0m     \u001b[0;32mdef\u001b[0m \u001b[0mread\u001b[0m\u001b[0;34m(\u001b[0m\u001b[0mself\u001b[0m\u001b[0;34m,\u001b[0m \u001b[0mnrows\u001b[0m\u001b[0;34m=\u001b[0m\u001b[0;32mNone\u001b[0m\u001b[0;34m)\u001b[0m\u001b[0;34m:\u001b[0m\u001b[0;34m\u001b[0m\u001b[0m\n\u001b[1;32m   1838\u001b[0m         \u001b[0;32mtry\u001b[0m\u001b[0;34m:\u001b[0m\u001b[0;34m\u001b[0m\u001b[0m\n\u001b[0;32m-> 1839\u001b[0;31m             \u001b[0mdata\u001b[0m \u001b[0;34m=\u001b[0m \u001b[0mself\u001b[0m\u001b[0;34m.\u001b[0m\u001b[0m_reader\u001b[0m\u001b[0;34m.\u001b[0m\u001b[0mread\u001b[0m\u001b[0;34m(\u001b[0m\u001b[0mnrows\u001b[0m\u001b[0;34m)\u001b[0m\u001b[0;34m\u001b[0m\u001b[0m\n\u001b[0m\u001b[1;32m   1840\u001b[0m         \u001b[0;32mexcept\u001b[0m \u001b[0mStopIteration\u001b[0m\u001b[0;34m:\u001b[0m\u001b[0;34m\u001b[0m\u001b[0m\n\u001b[1;32m   1841\u001b[0m             \u001b[0;32mif\u001b[0m \u001b[0mself\u001b[0m\u001b[0;34m.\u001b[0m\u001b[0m_first_chunk\u001b[0m\u001b[0;34m:\u001b[0m\u001b[0;34m\u001b[0m\u001b[0m\n",
      "\u001b[0;32mpandas/_libs/parsers.pyx\u001b[0m in \u001b[0;36mpandas._libs.parsers.TextReader.read\u001b[0;34m()\u001b[0m\n",
      "\u001b[0;32mpandas/_libs/parsers.pyx\u001b[0m in \u001b[0;36mpandas._libs.parsers.TextReader._read_rows\u001b[0;34m()\u001b[0m\n",
      "\u001b[0;32mpandas/_libs/parsers.pyx\u001b[0m in \u001b[0;36mpandas._libs.parsers.TextReader._convert_column_data\u001b[0;34m()\u001b[0m\n",
      "\u001b[0;32mpandas/_libs/parsers.pyx\u001b[0m in \u001b[0;36mpandas._libs.parsers.TextReader._convert_tokens\u001b[0;34m()\u001b[0m\n",
      "\u001b[0;32mpandas/_libs/parsers.pyx\u001b[0m in \u001b[0;36mpandas._libs.parsers.TextReader._convert_with_dtype\u001b[0;34m()\u001b[0m\n",
      "\u001b[0;32m/usr/lib64/python3.4/site-packages/pandas/core/dtypes/common.py\u001b[0m in \u001b[0;36mis_integer_dtype\u001b[0;34m(arr_or_dtype)\u001b[0m\n\u001b[1;32m    775\u001b[0m \u001b[0;34m\u001b[0m\u001b[0m\n\u001b[1;32m    776\u001b[0m \u001b[0;34m\u001b[0m\u001b[0m\n\u001b[0;32m--> 777\u001b[0;31m \u001b[0;32mdef\u001b[0m \u001b[0mis_integer_dtype\u001b[0m\u001b[0;34m(\u001b[0m\u001b[0marr_or_dtype\u001b[0m\u001b[0;34m)\u001b[0m\u001b[0;34m:\u001b[0m\u001b[0;34m\u001b[0m\u001b[0m\n\u001b[0m\u001b[1;32m    778\u001b[0m     \"\"\"\n\u001b[1;32m    779\u001b[0m     \u001b[0mCheck\u001b[0m \u001b[0mwhether\u001b[0m \u001b[0mthe\u001b[0m \u001b[0mprovided\u001b[0m \u001b[0marray\u001b[0m \u001b[0;32mor\u001b[0m \u001b[0mdtype\u001b[0m \u001b[0;32mis\u001b[0m \u001b[0mof\u001b[0m \u001b[0man\u001b[0m \u001b[0minteger\u001b[0m \u001b[0mdtype\u001b[0m\u001b[0;34m.\u001b[0m\u001b[0;34m\u001b[0m\u001b[0m\n",
      "\u001b[0;31mKeyboardInterrupt\u001b[0m: "
     ]
    }
   ],
   "source": [
    "chrom = [i for i in range(1,8,1)]\n",
    "##\n",
    "for ch in chrom:\n",
    "    data = pd.read_csv(SNP+str(ch)+\".snp\", sep='\\t', header=None, low_memory=False)\n",
    "    data.columns = column\n",
    "    data.replace('None', np.nan, inplace=True)\n",
    "    print('Data ..',data.shape)\n",
    "    data['callrate']=data.count(axis=1)\n",
    "    data1 = data.loc[data['callrate']>500]\n",
    "    data = data1\n",
    "    print ('High call rate filter ..', data.shape)\n",
    "    ##Homopoly\n",
    "    poly = pd.read_csv(HPOL, sep='\\t')[[\"#CHROM\",'POS','END']]\n",
    "    poly = poly.loc[poly['#CHROM']==ch]\n",
    "    print('STRs ..', poly.shape)\n",
    "    result = removeoverlap(data[[\"chrom\", \"start\"]],poly )\n",
    "    print (data.shape, datetime.now().strftime('%H:%M:%S'))\n",
    "    result = removeoverlap(data[[\"chrom\", \"start\"]],poly )\n",
    "    print(result.shape, datetime.now().strftime('%H:%M:%S'))\n",
    "    data = data.loc[data['start'].isin(list(result['start']))] \n",
    "    print(data.shape)\n",
    "    #Seg dup\n",
    "    Seg_dup = pd.read_csv(SEGDUP, sep='\\t', header=None)\n",
    "    Seg_dup.columns = [\"CHROM\",'POS','END','OTHERS','INFO','STRAND']\n",
    "    Seg_dup = Seg_dup.loc[Seg_dup['CHROM']=='chr'+str(ch)]\n",
    "    result = removeoverlap(data[['chrom','start']], Seg_dup)\n",
    "    data = data.loc[data['start'].isin(list(result['start']))]\n",
    "    print('Segmental Duplication filtered... '+str(data.shape))\n",
    "    #Hrun\n",
    "    hrun = pd.read_csv(HRUN, sep='\\t', header=None)\n",
    "    hrun.columns = [\"CHROM\",'POS','END','OTHERS','INFO']\n",
    "    hrun = hrun.loc[hrun['CHROM']=='chr'+str(ch)]\n",
    "    result = removeoverlap(data[['chrom','start']], hrun)\n",
    "    data = data.loc[data['start'].isin(list(result['start']))]\n",
    "    print('hrun filtered... '+str(data.shape))\n",
    "    #\n",
    "    data1 = data\n",
    "    del data['callrate']\n",
    "    data1.replace(np.nan,'None', inplace=True)\n",
    "    data1.to_csv(SNP+str(ch)+\".tab\", sep='\\t', index=None)    \n",
    "    print (ch)\n",
    "\n"
   ]
  },
  {
   "cell_type": "code",
   "execution_count": null,
   "metadata": {
    "collapsed": false
   },
   "outputs": [],
   "source": []
  },
  {
   "cell_type": "code",
   "execution_count": null,
   "metadata": {
    "collapsed": true
   },
   "outputs": [],
   "source": []
  }
 ],
 "metadata": {
  "kernelspec": {
   "display_name": "Python 3",
   "language": "python",
   "name": "python3"
  },
  "language_info": {
   "codemirror_mode": {
    "name": "ipython",
    "version": 3
   },
   "file_extension": ".py",
   "mimetype": "text/x-python",
   "name": "python",
   "nbconvert_exporter": "python",
   "pygments_lexer": "ipython3",
   "version": "3.4.5"
  }
 },
 "nbformat": 4,
 "nbformat_minor": 2
}
