{
 "cells": [
  {
   "cell_type": "code",
   "execution_count": 1,
   "metadata": {
    "collapsed": false
   },
   "outputs": [
    {
     "name": "stdout",
     "output_type": "stream",
     "text": [
      "Data .. (287595, 654)\n",
      "High call rate filter .. (286762, 655)\n"
     ]
    },
    {
     "name": "stderr",
     "output_type": "stream",
     "text": [
      "/usr/lib/python3.4/site-packages/IPython/core/interactiveshell.py:2717: DtypeWarning: Columns (0) have mixed types. Specify dtype option on import or set low_memory=False.\n",
      "  interactivity=interactivity, compiler=compiler, result=result)\n"
     ]
    },
    {
     "name": "stdout",
     "output_type": "stream",
     "text": [
      "STRs .. (37412, 3)\n"
     ]
    },
    {
     "name": "stderr",
     "output_type": "stream",
     "text": [
      "/usr/lib/python3.4/site-packages/ipykernel/__main__.py:10: SettingWithCopyWarning: \n",
      "A value is trying to be set on a copy of a slice from a DataFrame.\n",
      "Try using .loc[row_indexer,col_indexer] = value instead\n",
      "\n",
      "See the caveats in the documentation: http://pandas.pydata.org/pandas-docs/stable/indexing.html#indexing-view-versus-copy\n"
     ]
    },
    {
     "name": "stdout",
     "output_type": "stream",
     "text": [
      "\t STRs snps .. (285864, 2)\n",
      "(286762, 655) 18:46:14\n",
      "\t STRs snps .. (285864, 2)\n",
      "(285864, 2) 18:55:11\n",
      "(285864, 655)\n",
      "\t STRs snps .. (273380, 2)\n",
      "Segmental Duplication filtered... (273380, 655)\n",
      "\t STRs snps .. (272664, 2)\n",
      "hrun filtered... (272664, 655)\n",
      "9\n",
      "Data .. (366389, 654)\n",
      "High call rate filter .. (365416, 655)\n",
      "STRs .. (73187, 3)\n",
      "\t STRs snps .. (363567, 2)\n",
      "(365416, 655) 19:40:54\n",
      "\t STRs snps .. (363567, 2)\n",
      "(363567, 2) 20:04:48\n",
      "(363567, 655)\n",
      "\t STRs snps .. (358232, 2)\n",
      "Segmental Duplication filtered... (358232, 655)\n",
      "\t STRs snps .. (358054, 2)\n",
      "hrun filtered... (358054, 655)\n",
      "8\n"
     ]
    }
   ],
   "source": [
    "import pandas as pd\n",
    "import scipy.stats\n",
    "import numpy as np\n",
    "import vcf\n",
    "import io\n",
    "from datetime import datetime\n",
    "\n"
   ]
  },
  {
   "cell_type": "code",
   "execution_count": null,
   "metadata": {
    "collapsed": true
   },
   "outputs": [],
   "source": []
  },
  {
   "cell_type": "code",
   "execution_count": null,
   "metadata": {
    "collapsed": true
   },
   "outputs": [],
   "source": [
    "python ~/projects/GTEX_eSTRs/gtex-estrs/Scripts/Heritability/strsnp_h2_gcta.py \n",
    "--expr EXPR \n",
    "--exprannot EXPRANNOT \n",
    "--chrom CHROM\n",
    "--distfromgene DISTFROMGENE \n",
    "--strgt STRGT \n",
    "--snpgt SNPGT \n",
    "--out OUT \n",
    "--method METHOD \n",
    "--include-str INCLUDE_STR\n",
    "[--tmpdir TMPDIR] \n",
    "[--snp-maf SNP_MAF]\n",
    "[--estr-results ESTR_RESULTS] \n",
    "[--reml-no-constrain]\n",
    "[--switch-order] \n",
    "[--estr-genes-only ESTR_GENES_ONLY]\n",
    "[--permute-strs PERMUTE_STRS] \n",
    "[--ctrl] \n",
    "[--debug]"
   ]
  }
 ],
 "metadata": {
  "kernelspec": {
   "display_name": "Python 3",
   "language": "python",
   "name": "python3"
  },
  "language_info": {
   "codemirror_mode": {
    "name": "ipython",
    "version": 3
   },
   "file_extension": ".py",
   "mimetype": "text/x-python",
   "name": "python",
   "nbconvert_exporter": "python",
   "pygments_lexer": "ipython3",
   "version": "3.4.5"
  }
 },
 "nbformat": 4,
 "nbformat_minor": 2
}
