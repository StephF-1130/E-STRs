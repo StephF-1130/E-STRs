{
 "cells": [
  {
   "cell_type": "code",
   "execution_count": 15,
   "metadata": {
    "collapsed": false
   },
   "outputs": [
    {
     "name": "stdout",
     "output_type": "stream",
     "text": [
      "Adipose S. (87891, 12)\n",
      "Adipose V. (87912, 12)\n",
      "Artery A. (86353, 12)\n",
      "Artery T. (85366, 12)\n",
      "Caudate (87076, 12)\n",
      "Cerebellum (87179, 12)\n",
      "Fibroblast (83075, 12)\n",
      "E. Mucosa (97676, 12)\n",
      "E Muscularis (87608, 12)\n",
      "Ventricule (84416, 12)\n",
      "Lung (89448, 12)\n",
      "Muscle (84241, 12)\n",
      "Nerve (88752, 12)\n",
      "Skin Unexposed (89011, 12)\n",
      "Skin Leg (89048, 12)\n",
      "Thyroid (89139, 12)\n",
      "Blood (81939, 12)\n",
      "0\n",
      "Adipose S. (87891, 13)\n",
      "Adipose V. (87912, 13)\n",
      "Artery A. (86353, 13)\n",
      "Artery T. (85366, 13)\n",
      "Caudate (87076, 13)\n",
      "Cerebellum (87179, 13)\n",
      "Fibroblast (83075, 13)\n",
      "E. Mucosa (97676, 13)\n",
      "E Muscularis (87608, 13)\n",
      "Ventricule (84416, 13)\n",
      "Lung (89448, 13)\n",
      "Muscle (84241, 13)\n",
      "Nerve (88752, 13)\n",
      "Skin Unexposed (89011, 13)\n",
      "Skin Leg (89048, 13)\n",
      "Thyroid (89139, 13)\n",
      "Blood (81939, 13)\n"
     ]
    }
   ],
   "source": [
    "#!/usr/bin/env python\n",
    "\n",
    "import pandas as pd\n",
    "import subprocess\n",
    "import sys\n",
    "import os\n",
    "\n",
    "def mergeallchrs(tissue, PATH):\n",
    "    print (T , '... START')\n",
    "    Frames=[pd.read_csv(PATH+ tissue+'/chrchr1/Lin_Reg_Out_perm',sep='\\t')]\n",
    "    for x in range(2,22):\n",
    "        LN=PATH+ T+'/chrchr'+str(x)+'/Lin_Reg_Out_perm'\n",
    "        frame1=pd.read_csv(LN, sep='\\t')\n",
    "        Frames.append(frame1)\n",
    "    Results=pd.concat(Frames)\n",
    "    print ('\\n All Chrms ','   ', Results.shape, PATH+ T +'/Lin_Reg_Out_perm')\n",
    "    Results.to_csv(PATH + T +'/Lin_Reg_Out_Het03_noHom_perm', sep='\\t', header=True)\n",
    "    return(0)\n",
    "\n",
    "\"\"\"\n",
    "    Merge Reregression files into ine single file \n",
    "    Output is a vcf file to be indexed with tabix\n",
    "\"\"\"\n",
    "SHORTEN = {\n",
    "    \"Artery-Aorta\":\"Artery A.\"     ,\n",
    "    \"Artery-Tibial\": \"Artery T.\",\n",
    "    \"Adipose-Subcutaneous\": \"Adipose S.\",    \n",
    "    \"Adipose-Visceral\":\"Adipose V.\",\n",
    "    \"Brain-Caudate\":\"Caudate\"   , \n",
    "    \"Brain-Cerebellum\":\"Cerebellum\",\n",
    "    \"Cells-Transformedfibroblasts\": \"Fibroblast\",\n",
    "    \"Esophagus-Mucosa\": \"E. Mucosa\",\n",
    "    \"Esophagus-Muscularis\":\"E Muscularis\",\n",
    "    \"Heart-LeftVentricle\":\"Ventricule\",\n",
    "    \"Lung\": \"Lung\",\n",
    "    \"Muscle-Skeletal\": \"Muscle\",\n",
    "    \"Nerve-Tibial\":\"Nerve\",\n",
    "    \"Skin-NotSunExposed\": \"Skin Unexposed\",\n",
    "    \"Skin-SunExposed\":\"Skin Leg\",\n",
    "    \"Thyroid\":\"Thyroid\",\n",
    "    \"WholeBlood\": \"Blood\"\n",
    "}\n",
    "TISSUES = sorted(SHORTEN.keys())\n",
    "PATH = '/storage/szfeupe/Runs/650GTEx_estr/Analysis_by_Tissue/'\n",
    "\n",
    "Original = '/Lin_Reg_Out_Het03_noHom'\n",
    "Homopoly = '/Lin_Reg_Out_Add_Hom'\n",
    "AddHET01 = '/Lin_Reg_Out_Add_01het'\n",
    "\n",
    "for T in TISSUES:\n",
    "    S1 = pd.read_csv(PATH + T + Original, sep='\\t')  #Original had HET(0.3) without homopolymers\n",
    "    S2 = pd.read_csv(PATH + T + Homopoly, sep='\\t')  #We did Homopolymers only to add to the set\n",
    "    S3 = pd.read_csv(PATH + T + AddHET01, sep='\\t')  #We moved HET threshold to 0.1 (This set only has 0.1<=HET<0.3)\n",
    "\n",
    "    AllREG = pd.concat([S1,S2,S3])\n",
    "    AllREG = AllREG.sort_values(['chrom','gene','str.start'])\n",
    "    del AllREG['Unnamed: 0']\n",
    "    print(SHORTEN[T], AllREG.shape)\n",
    "    AllREG.to_csv(PATH + T + '/Lin_Reg_Out',sep='\\t', index=False)\n",
    "\n",
    "print(0)\n",
    "\n",
    "Original = '/Lin_Reg_Out_Het03_noHom_perm'\n",
    "Homopoly = '/Lin_Reg_Out_perm_Add_Hom'\n",
    "AddHET01 = '/Lin_Reg_Out_perm_Add_01het'\n",
    "\n",
    "\n",
    "for T in TISSUES:\n",
    "    S1 = pd.read_csv(PATH + T + Original, sep='\\t')  #Original had HET(0.3) without homopolymers\n",
    "    S2 = pd.read_csv(PATH + T + Homopoly, sep='\\t')  #We did Homopolymers only to add to the set\n",
    "    S3 = pd.read_csv(PATH + T + AddHET01, sep='\\t')  #We moved HET threshold to 0.1 (This set only has 0.1<=HET<0.3)\n",
    "\n",
    "    AllREG = pd.concat([S1,S2,S3])\n",
    "    AllREG = AllREG.sort_values(['chrom','gene','str.start'])\n",
    "    print(SHORTEN[T], AllREG.shape)\n",
    "    del AllREG['Unnamed: 0']\n",
    "    AllREG.to_csv(PATH + T + '/Lin_Reg_Out_perm', sep='\\t', index=False )\n",
    "\n"
   ]
  },
  {
   "cell_type": "code",
   "execution_count": null,
   "metadata": {
    "collapsed": false
   },
   "outputs": [],
   "source": [
    "del AllREG['Unnamed: 0']"
   ]
  },
  {
   "cell_type": "code",
   "execution_count": null,
   "metadata": {
    "collapsed": true
   },
   "outputs": [],
   "source": []
  }
 ],
 "metadata": {
  "kernelspec": {
   "display_name": "Python 3",
   "language": "python",
   "name": "python3"
  },
  "language_info": {
   "codemirror_mode": {
    "name": "ipython",
    "version": 3
   },
   "file_extension": ".py",
   "mimetype": "text/x-python",
   "name": "python",
   "nbconvert_exporter": "python",
   "pygments_lexer": "ipython3",
   "version": "3.4.5"
  }
 },
 "nbformat": 4,
 "nbformat_minor": 2
}
